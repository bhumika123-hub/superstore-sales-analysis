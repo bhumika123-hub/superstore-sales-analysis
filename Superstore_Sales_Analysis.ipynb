{
 "cells": [
  {
   "cell_type": "markdown",
   "id": "8f075aee",
   "metadata": {},
   "source": [
    "# 📊 Superstore Sales Analysis\n",
    "\n",
    "This notebook analyzes sales data from a fictional superstore to uncover business insights using Python."
   ]
  },
  {
   "cell_type": "code",
   "execution_count": null,
   "id": "cd466b26",
   "metadata": {},
   "outputs": [],
   "source": [
    "import pandas as pd\n",
    "import matplotlib.pyplot as plt\n",
    "import seaborn as sns\n",
    "\n",
    "# Load the dataset\n",
    "df = pd.read_csv('Superstore_Sales.csv')\n",
    "df['Order Date'] = pd.to_datetime(df['Order Date'])"
   ]
  },
  {
   "cell_type": "markdown",
   "id": "9116a3a8",
   "metadata": {},
   "source": [
    "## 🧹 Data Cleaning\n",
    "Ensure the data is in good shape."
   ]
  },
  {
   "cell_type": "code",
   "execution_count": null,
   "id": "54c39b0c",
   "metadata": {},
   "outputs": [],
   "source": [
    "df.dropna(inplace=True)\n",
    "df['Month'] = df['Order Date'].dt.to_period('M')\n",
    "df.head()"
   ]
  },
  {
   "cell_type": "markdown",
   "id": "4d295245",
   "metadata": {},
   "source": [
    "## 📈 Monthly Sales Trend"
   ]
  },
  {
   "cell_type": "code",
   "execution_count": null,
   "id": "9b5eaa44",
   "metadata": {},
   "outputs": [],
   "source": [
    "monthly_sales = df.groupby('Month')['Sales'].sum()\n",
    "monthly_sales.plot(figsize=(10, 5), title='Monthly Sales Trend')\n",
    "plt.ylabel('Sales')\n",
    "plt.show()"
   ]
  },
  {
   "cell_type": "markdown",
   "id": "6fab5d0f",
   "metadata": {},
   "source": [
    "## 📊 Sales by Category"
   ]
  },
  {
   "cell_type": "code",
   "execution_count": null,
   "id": "f29c6cb9",
   "metadata": {},
   "outputs": [],
   "source": [
    "category_sales = df.groupby('Category')['Sales'].sum().sort_values()\n",
    "category_sales.plot(kind='barh', color='skyblue', title='Sales by Category', figsize=(8, 5))\n",
    "plt.show()"
   ]
  },
  {
   "cell_type": "markdown",
   "id": "f6021bc8",
   "metadata": {},
   "source": [
    "## 💰 Profit vs Discount"
   ]
  },
  {
   "cell_type": "code",
   "execution_count": null,
   "id": "00d6eeb6",
   "metadata": {},
   "outputs": [],
   "source": [
    "sns.scatterplot(x='Discount', y='Profit', data=df)\n",
    "plt.title('Profit vs Discount')\n",
    "plt.show()"
   ]
  },
  {
   "cell_type": "markdown",
   "id": "2c44d12e",
   "metadata": {},
   "source": [
    "## 📝 Insights\n",
    "- Technology is the top-performing category.\n",
    "- Sales are seasonal with monthly fluctuations.\n",
    "- High discounts can reduce profit margins.\n",
    "\n",
    "This analysis can help businesses optimize product focus and discount strategies."
   ]
  }
 ],
 "metadata": {},
 "nbformat": 4,
 "nbformat_minor": 5
}
